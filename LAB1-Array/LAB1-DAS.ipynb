{
 "cells": [
  {
   "cell_type": "markdown",
   "metadata": {},
   "source": [
    "### แบบฝึกหัดที่ 1 \n",
    "##### แบบฝึกหัดที่ 1.1 "
   ]
  },
  {
   "cell_type": "code",
   "execution_count": null,
   "metadata": {},
   "outputs": [],
   "source": [
    "#เก็บคะแนน\n",
    "scores = [0] * 5\n",
    "\n",
    "for i in range(5):\n",
    "    scores[i] = float(input(f\"กรุณากรอกคะแนนของนักเรียนคนที่ {i+1}: \"))\n",
    "print(f\"\\nคะแนนสอบของนักเรียน 5 คน: {scores}\")\n",
    "\n",
    "#คำนวณหาค่าเฉลี่ยคะแนน\n",
    "total_score = 0\n",
    "for score in scores:\n",
    "    total_score += score\n",
    "average_score = total_score / len(scores)\n",
    "print(f\"ค่าเฉลี่ยของคะแนนนักเรียนทั้ง 5 คน : {average_score:.2f}\")\n",
    "\n",
    "#คำนวณคะแนนสูงสุด ต่ำสุด\n",
    "max_score = scores[0]\n",
    "min_score = scores[0]\n",
    "\n",
    "for score in scores:\n",
    "    if score > max_score:\n",
    "        max_score = score\n",
    "    if score < min_score:\n",
    "        min_score = score\n",
    "\n",
    "print(f\"คะแนนสูงสุดของนักเรียน: {max_score}\")\n",
    "print(f\"คะแนนต่ำสุดของนักเรียน: {min_score}\")\n",
    "\n",
    "#แสดงจำนวนคนที่ได้คะแนนมากกว่าค่าเฉลี่ย\n",
    "above_average_count = 0\n",
    "for score in scores:\n",
    "    if score > average_score:\n",
    "        above_average_count += 1\n",
    "        \n",
    "print(f\"จำนวนคนที่ได้คะแนนมากกว่าค่าเฉลี่ย: {above_average_count}\")\n"
   ]
  },
  {
   "cell_type": "markdown",
   "metadata": {},
   "source": [
    "##### แบบฝึดหัดที่ 1.2 "
   ]
  },
  {
   "cell_type": "code",
   "execution_count": null,
   "metadata": {},
   "outputs": [],
   "source": [
    "#สร้างโปรแกรมจัดการรายชื่อสินค้าในร้านค้า โดยมีฟังก์ชัน\n",
    "\n",
    "products = []\n",
    "\n",
    "#เพิ่มสินค้าใหม่\n",
    "def add_product():\n",
    "    name = input(\"กรุณากรอกชื่อสินค้าที่จะเพิ่ม : \")\n",
    "    products.append(name)\n",
    "\n",
    "    print(f\"สินค้าชื่อ '{name}' ถูกเพิ่มเรียบร้อย\")\n",
    "\n",
    "\n",
    "#ลบสินค้าที่หมด\n",
    "def remove_out_of_stock():\n",
    "    name = input(\"กรุณากรอกชื่อสินค้าที่จะลบ (สินค้าที่หมด): \")\n",
    "    if name in products:\n",
    "        products.remove(name)\n",
    "        print(f\"'{name}' ถูกลบเรียบร้อย\")\n",
    "    else:\n",
    "        print(f\"ไม่พบ '{name}' ในรายการสินค้า\")\n",
    "\n",
    "#ค้นหาสินค้า\n",
    "def search_product():\n",
    "    name = input(\"กรุณากรอกชื่อสินค้าที่ต้องการค้นหา : \")\n",
    "    if name in products:\n",
    "        print(f\"พบสินค้าที่ชื่อ '{name}' ในร้านค้า\")\n",
    "    else:\n",
    "        print(f\"ไม่พบสินค้าที่ชื่อ '{name}' ในร้านค้า\")\n",
    "\n",
    "#แสดงรายการสินค้าทั้งหมด\n",
    "def display_products():\n",
    "    if len(products) > 0:\n",
    "        print(\"รายการสินค้าทั้งหมด:\")\n",
    "        for product in products:\n",
    "            print(f\"- {product}\")\n",
    "    else:\n",
    "        print(\"ไม่มีสินค้าภายในร้านค้า\")\n",
    "\n",
    "\n",
    "def main():\n",
    "    while True:\n",
    "        print(\"\\n โปรแกรมจัดการร้านค้า\")\n",
    "        print(\"1. เพิ่มสินค้าใหม่\")\n",
    "        print(\"2. ลบสินค้าที่หมด\")\n",
    "        print(\"3. ค้นหาสินค้า\")\n",
    "        print(\"4. แสดงรายการสินค้าทั้งหมด\")\n",
    "        print(\"5. ออกจากโปรแกรม\")\n",
    "\n",
    "        choice = input(\"กรุณาเลือกตัวเลือก 1-5 : \")\n",
    "\n",
    "        if choice == '1':\n",
    "            add_product ()\n",
    "        elif choice == '2':\n",
    "            remove_out_of_stock ()\n",
    "        elif choice == '3':\n",
    "            search_product ()\n",
    "        elif choice == '4':\n",
    "            display_products ()\n",
    "        elif choice == '5':\n",
    "            print(\"ออกจากโปรแกรม\")\n",
    "            break\n",
    "        else:\n",
    "            print(\"ตัวเลือกไม่ถูกต้อง, กรุณาเลือกตัวเลือก 1-5 \")        \n",
    "main()"
   ]
  },
  {
   "cell_type": "markdown",
   "metadata": {},
   "source": [
    "### แบบฝึกหัดที่ 2: Array 2 มิติ\n",
    "##### แบบฝึกหัดที่ 2.1 "
   ]
  },
  {
   "cell_type": "code",
   "execution_count": 6,
   "metadata": {},
   "outputs": [
    {
     "name": "stdout",
     "output_type": "stream",
     "text": [
      "คะแนนสอบของนักเรียน 4 คนใน 3 วิชา :\n",
      "นักเรียนคนที่ 1 : [82, 70, 78]\n",
      "นักเรียนคนที่ 2 : [88, 48, 76]\n",
      "นักเรียนคนที่ 3 : [56, 68, 79]\n",
      "นักเรียนคนที่ 4 : [58, 70, 95]\n",
      "\n",
      "คะแนนเฉลี่ยของแต่ละวิชา :\n",
      "วิชา 1 : 71.00\n",
      "วิชา 2 : 64.00\n",
      "วิชา 3 : 82.00\n",
      "\n",
      "คะแนนรวมสูงสุดคือของนักเรียนคนที่ 1 กับคะแนนรวม 230\n",
      "\n",
      "จำนวนผู้สอบผ่านแต่ละวิชา (คะแนน ≥ 50) \n",
      "วิชา 1 : 4 คน\n",
      "วิชา 2 : 3 คน\n",
      "วิชา 3 : 4 คน\n"
     ]
    }
   ],
   "source": [
    "scores = [\n",
    "    [82, 70, 78],\n",
    "    [88, 48, 76],\n",
    "    [56, 68, 79],\n",
    "    [58, 70, 95]\n",
    "]\n",
    "print(\"คะแนนสอบของนักเรียน 4 คนใน 3 วิชา :\")\n",
    "for i in range(4):\n",
    "    print(f\"นักเรียนคนที่ {i+1} : {scores[i]}\")\n",
    "\n",
    "#คำนวณคะแนนเฉลี่ยของแต่ละวิชา\n",
    "subject_averages = []\n",
    "for j in range(3):\n",
    "    total_score = 0\n",
    "    for i in range(4):\n",
    "        total_score += scores[i][j]\n",
    "    subject_averages.append(total_score / 4)\n",
    "print(\"\\nคะแนนเฉลี่ยของแต่ละวิชา :\")\n",
    "for j in range(3):\n",
    "    print(f\"วิชา {j+1} : {subject_averages[j]:.2f}\")\n",
    "\n",
    "#หานักเรียนที่ได้คะแนนรวมสูงสุด\n",
    "max_total_score = -1\n",
    "best_student_index = -1\n",
    "for i in range(4):\n",
    "    total_score = sum(scores[i])\n",
    "    if total_score > max_total_score:\n",
    "        max_total_score = total_score\n",
    "        best_student_index = i\n",
    "print(f\"\\nคะแนนรวมสูงสุดคือของนักเรียนคนที่ {best_student_index+1} กับคะแนนรวม {max_total_score}\")\n",
    "\n",
    "#แสดงจำนวนนักเรียนที่สอบผ่านแต่ละวิชา (คะแนน ≥ 50)\n",
    "pass_counts = [0] * 3\n",
    "for j in range(3):\n",
    "    for i in range(4):\n",
    "        if scores[i][j] >= 50:\n",
    "            pass_counts[j] += 1\n",
    "print(\"\\nจำนวนผู้สอบผ่านแต่ละวิชา (คะแนน ≥ 50) \")\n",
    "for j in range(3):\n",
    "    print(f\"วิชา {j+1} : {pass_counts[j]} คน\")\n"
   ]
  },
  {
   "cell_type": "markdown",
   "metadata": {},
   "source": [
    "# แบบฝึกหัดที่ 2.2 \n",
    "##### ส่งไฟล์แยก LAB2.2.py"
   ]
  }
 ],
 "metadata": {
  "kernelspec": {
   "display_name": ".venv",
   "language": "python",
   "name": "python3"
  },
  "language_info": {
   "codemirror_mode": {
    "name": "ipython",
    "version": 3
   },
   "file_extension": ".py",
   "mimetype": "text/x-python",
   "name": "python",
   "nbconvert_exporter": "python",
   "pygments_lexer": "ipython3",
   "version": "3.13.1"
  },
  "polyglot_notebook": {
   "kernelInfo": {
    "defaultKernelName": "csharp",
    "items": [
     {
      "aliases": [],
      "languageName": "csharp",
      "name": "csharp"
     }
    ]
   }
  }
 },
 "nbformat": 4,
 "nbformat_minor": 2
}
